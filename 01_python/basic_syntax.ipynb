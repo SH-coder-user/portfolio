{
 "cells": [
  {
   "cell_type": "markdown",
   "id": "de3e9aba",
   "metadata": {},
   "source": [
    "# 📘 01_python_basic.ipynb\n",
    "이 노트북은 Python의 가장 기본적인 문법을 익히기 위한 예제입니다."
   ]
  },
  {
   "cell_type": "code",
   "execution_count": 1,
   "id": "0a56a5b9",
   "metadata": {},
   "outputs": [
    {
     "name": "stdout",
     "output_type": "stream",
     "text": [
      "Alice 25\n"
     ]
    }
   ],
   "source": [
    "# ✅ 변수: 값을 저장하는 그릇\n",
    "name = \"Alice\"\n",
    "age = 25\n",
    "print(name, age)"
   ]
  },
  {
   "cell_type": "code",
   "execution_count": 2,
   "id": "2c617017",
   "metadata": {},
   "outputs": [
    {
     "name": "stdout",
     "output_type": "stream",
     "text": [
      "성인입니다.\n"
     ]
    }
   ],
   "source": [
    "# ✅ 조건문: 어떤 조건에 따라 실행\n",
    "if age > 18:\n",
    "    print(\"성인입니다.\")\n",
    "else:\n",
    "    print(\"미성년자입니다.\")"
   ]
  },
  {
   "cell_type": "code",
   "execution_count": 3,
   "id": "fc8b72c5",
   "metadata": {},
   "outputs": [
    {
     "name": "stdout",
     "output_type": "stream",
     "text": [
      "반복 0\n",
      "반복 1\n",
      "반복 2\n"
     ]
    }
   ],
   "source": [
    "# ✅ 반복문: 여러 번 실행\n",
    "for i in range(3):\n",
    "    print(\"반복\", i)"
   ]
  },
  {
   "cell_type": "code",
   "execution_count": 4,
   "id": "78fb174f",
   "metadata": {},
   "outputs": [
    {
     "name": "stdout",
     "output_type": "stream",
     "text": [
      "안녕하세요, Alice님!\n"
     ]
    }
   ],
   "source": [
    "# ✅ 함수: 코드를 묶어서 재사용 가능\n",
    "def greet(name):\n",
    "    return f\"안녕하세요, {name}님!\"\n",
    "\n",
    "print(greet(\"Alice\"))"
   ]
  }
 ],
 "metadata": {
  "kernelspec": {
   "display_name": "Python 3 (ipykernel)",
   "language": "python",
   "name": "python3"
  },
  "language_info": {
   "codemirror_mode": {
    "name": "ipython",
    "version": 3
   },
   "file_extension": ".py",
   "mimetype": "text/x-python",
   "name": "python",
   "nbconvert_exporter": "python",
   "pygments_lexer": "ipython3",
   "version": "3.11.7"
  }
 },
 "nbformat": 4,
 "nbformat_minor": 5
}
